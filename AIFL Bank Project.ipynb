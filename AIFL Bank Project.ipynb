{
 "cells": [
  {
   "cell_type": "markdown",
   "id": "8ccea834",
   "metadata": {},
   "source": [
    "# AIFL Bank Project"
   ]
  },
  {
   "cell_type": "markdown",
   "id": "9b7b5d4f",
   "metadata": {},
   "source": [
    "# Importing the libraries"
   ]
  },
  {
   "cell_type": "code",
   "execution_count": 70,
   "id": "06b0781e",
   "metadata": {},
   "outputs": [],
   "source": [
    "import numpy as np\n",
    "import pandas as pd\n",
    "import seaborn as sns\n",
    "import matplotlib.pyplot as plt\n",
    "%matplotlib inline\n",
    "import warnings\n",
    "warnings.filterwarnings('ignore')"
   ]
  },
  {
   "cell_type": "markdown",
   "id": "6e7df205",
   "metadata": {},
   "source": [
    "# Univariate Analysis"
   ]
  },
  {
   "cell_type": "markdown",
   "id": "5794bad7",
   "metadata": {},
   "source": [
    "# Importing and reading the data"
   ]
  },
  {
   "cell_type": "code",
   "execution_count": 71,
   "id": "77537333",
   "metadata": {},
   "outputs": [],
   "source": [
    "bank=pd.read_csv(\"C:/Users/avvar/Downloads/Bank.csv\")"
   ]
  },
  {
   "cell_type": "code",
   "execution_count": 72,
   "id": "eb413759",
   "metadata": {},
   "outputs": [
    {
     "data": {
      "text/html": [
       "<div>\n",
       "<style scoped>\n",
       "    .dataframe tbody tr th:only-of-type {\n",
       "        vertical-align: middle;\n",
       "    }\n",
       "\n",
       "    .dataframe tbody tr th {\n",
       "        vertical-align: top;\n",
       "    }\n",
       "\n",
       "    .dataframe thead th {\n",
       "        text-align: right;\n",
       "    }\n",
       "</style>\n",
       "<table border=\"1\" class=\"dataframe\">\n",
       "  <thead>\n",
       "    <tr style=\"text-align: right;\">\n",
       "      <th></th>\n",
       "      <th>Age</th>\n",
       "      <th>Experience</th>\n",
       "      <th>Income</th>\n",
       "      <th>Family</th>\n",
       "      <th>CCAvg</th>\n",
       "      <th>Education</th>\n",
       "      <th>Mortgage</th>\n",
       "      <th>Personal Loan</th>\n",
       "      <th>Securities Account</th>\n",
       "      <th>CreditCard</th>\n",
       "    </tr>\n",
       "  </thead>\n",
       "  <tbody>\n",
       "    <tr>\n",
       "      <th>0</th>\n",
       "      <td>25</td>\n",
       "      <td>1</td>\n",
       "      <td>49</td>\n",
       "      <td>4</td>\n",
       "      <td>1.6</td>\n",
       "      <td>1</td>\n",
       "      <td>0</td>\n",
       "      <td>0</td>\n",
       "      <td>1</td>\n",
       "      <td>0</td>\n",
       "    </tr>\n",
       "    <tr>\n",
       "      <th>1</th>\n",
       "      <td>45</td>\n",
       "      <td>19</td>\n",
       "      <td>34</td>\n",
       "      <td>3</td>\n",
       "      <td>1.5</td>\n",
       "      <td>1</td>\n",
       "      <td>0</td>\n",
       "      <td>0</td>\n",
       "      <td>1</td>\n",
       "      <td>0</td>\n",
       "    </tr>\n",
       "    <tr>\n",
       "      <th>2</th>\n",
       "      <td>39</td>\n",
       "      <td>15</td>\n",
       "      <td>11</td>\n",
       "      <td>1</td>\n",
       "      <td>1.0</td>\n",
       "      <td>1</td>\n",
       "      <td>0</td>\n",
       "      <td>0</td>\n",
       "      <td>0</td>\n",
       "      <td>0</td>\n",
       "    </tr>\n",
       "    <tr>\n",
       "      <th>3</th>\n",
       "      <td>35</td>\n",
       "      <td>9</td>\n",
       "      <td>100</td>\n",
       "      <td>1</td>\n",
       "      <td>2.7</td>\n",
       "      <td>2</td>\n",
       "      <td>0</td>\n",
       "      <td>0</td>\n",
       "      <td>0</td>\n",
       "      <td>0</td>\n",
       "    </tr>\n",
       "    <tr>\n",
       "      <th>4</th>\n",
       "      <td>35</td>\n",
       "      <td>8</td>\n",
       "      <td>45</td>\n",
       "      <td>4</td>\n",
       "      <td>1.0</td>\n",
       "      <td>2</td>\n",
       "      <td>0</td>\n",
       "      <td>0</td>\n",
       "      <td>0</td>\n",
       "      <td>1</td>\n",
       "    </tr>\n",
       "  </tbody>\n",
       "</table>\n",
       "</div>"
      ],
      "text/plain": [
       "   Age  Experience  Income  Family  CCAvg  Education  Mortgage  Personal Loan  \\\n",
       "0   25           1      49       4    1.6          1         0              0   \n",
       "1   45          19      34       3    1.5          1         0              0   \n",
       "2   39          15      11       1    1.0          1         0              0   \n",
       "3   35           9     100       1    2.7          2         0              0   \n",
       "4   35           8      45       4    1.0          2         0              0   \n",
       "\n",
       "   Securities Account  CreditCard  \n",
       "0                   1           0  \n",
       "1                   1           0  \n",
       "2                   0           0  \n",
       "3                   0           0  \n",
       "4                   0           1  "
      ]
     },
     "execution_count": 72,
     "metadata": {},
     "output_type": "execute_result"
    }
   ],
   "source": [
    "bank.head()"
   ]
  },
  {
   "cell_type": "code",
   "execution_count": 73,
   "id": "9b459fde",
   "metadata": {},
   "outputs": [
    {
     "data": {
      "text/plain": [
       "(2999, 10)"
      ]
     },
     "execution_count": 73,
     "metadata": {},
     "output_type": "execute_result"
    }
   ],
   "source": [
    "bank.shape"
   ]
  },
  {
   "cell_type": "markdown",
   "id": "2b760051",
   "metadata": {},
   "source": [
    "No.of Rows=2999 "
   ]
  },
  {
   "cell_type": "markdown",
   "id": "b4b5cdf1",
   "metadata": {},
   "source": [
    "No.of Features=10"
   ]
  },
  {
   "cell_type": "code",
   "execution_count": 74,
   "id": "231b6f39",
   "metadata": {},
   "outputs": [
    {
     "name": "stdout",
     "output_type": "stream",
     "text": [
      "<class 'pandas.core.frame.DataFrame'>\n",
      "RangeIndex: 2999 entries, 0 to 2998\n",
      "Data columns (total 10 columns):\n",
      " #   Column              Non-Null Count  Dtype  \n",
      "---  ------              --------------  -----  \n",
      " 0   Age                 2999 non-null   int64  \n",
      " 1   Experience          2999 non-null   int64  \n",
      " 2   Income              2999 non-null   int64  \n",
      " 3   Family              2999 non-null   int64  \n",
      " 4   CCAvg               2999 non-null   float64\n",
      " 5   Education           2999 non-null   int64  \n",
      " 6   Mortgage            2999 non-null   int64  \n",
      " 7   Personal Loan       2999 non-null   int64  \n",
      " 8   Securities Account  2999 non-null   int64  \n",
      " 9   CreditCard          2999 non-null   int64  \n",
      "dtypes: float64(1), int64(9)\n",
      "memory usage: 234.4 KB\n"
     ]
    }
   ],
   "source": [
    "bank.info()"
   ]
  },
  {
   "cell_type": "markdown",
   "id": "28340b4c",
   "metadata": {},
   "source": [
    "# Exploring The Data"
   ]
  },
  {
   "cell_type": "code",
   "execution_count": 75,
   "id": "a08f308a",
   "metadata": {},
   "outputs": [
    {
     "data": {
      "text/html": [
       "<div>\n",
       "<style scoped>\n",
       "    .dataframe tbody tr th:only-of-type {\n",
       "        vertical-align: middle;\n",
       "    }\n",
       "\n",
       "    .dataframe tbody tr th {\n",
       "        vertical-align: top;\n",
       "    }\n",
       "\n",
       "    .dataframe thead th {\n",
       "        text-align: right;\n",
       "    }\n",
       "</style>\n",
       "<table border=\"1\" class=\"dataframe\">\n",
       "  <thead>\n",
       "    <tr style=\"text-align: right;\">\n",
       "      <th></th>\n",
       "      <th>Age</th>\n",
       "      <th>Experience</th>\n",
       "      <th>Income</th>\n",
       "      <th>Family</th>\n",
       "      <th>CCAvg</th>\n",
       "      <th>Education</th>\n",
       "      <th>Mortgage</th>\n",
       "      <th>Personal Loan</th>\n",
       "      <th>Securities Account</th>\n",
       "      <th>CreditCard</th>\n",
       "    </tr>\n",
       "  </thead>\n",
       "  <tbody>\n",
       "    <tr>\n",
       "      <th>count</th>\n",
       "      <td>2999.000000</td>\n",
       "      <td>2999.000000</td>\n",
       "      <td>2999.000000</td>\n",
       "      <td>2999.000000</td>\n",
       "      <td>2999.000000</td>\n",
       "      <td>2999.000000</td>\n",
       "      <td>2999.000000</td>\n",
       "      <td>2999.000000</td>\n",
       "      <td>2999.000000</td>\n",
       "      <td>2999.000000</td>\n",
       "    </tr>\n",
       "    <tr>\n",
       "      <th>mean</th>\n",
       "      <td>45.491164</td>\n",
       "      <td>20.271757</td>\n",
       "      <td>74.797933</td>\n",
       "      <td>2.395465</td>\n",
       "      <td>1.978489</td>\n",
       "      <td>1.861954</td>\n",
       "      <td>59.360453</td>\n",
       "      <td>0.103034</td>\n",
       "      <td>0.106035</td>\n",
       "      <td>0.286095</td>\n",
       "    </tr>\n",
       "    <tr>\n",
       "      <th>std</th>\n",
       "      <td>11.474651</td>\n",
       "      <td>11.483165</td>\n",
       "      <td>46.879316</td>\n",
       "      <td>1.155227</td>\n",
       "      <td>1.812541</td>\n",
       "      <td>0.835912</td>\n",
       "      <td>103.554350</td>\n",
       "      <td>0.304054</td>\n",
       "      <td>0.307934</td>\n",
       "      <td>0.452010</td>\n",
       "    </tr>\n",
       "    <tr>\n",
       "      <th>min</th>\n",
       "      <td>23.000000</td>\n",
       "      <td>-3.000000</td>\n",
       "      <td>8.000000</td>\n",
       "      <td>1.000000</td>\n",
       "      <td>0.000000</td>\n",
       "      <td>1.000000</td>\n",
       "      <td>0.000000</td>\n",
       "      <td>0.000000</td>\n",
       "      <td>0.000000</td>\n",
       "      <td>0.000000</td>\n",
       "    </tr>\n",
       "    <tr>\n",
       "      <th>25%</th>\n",
       "      <td>35.000000</td>\n",
       "      <td>10.000000</td>\n",
       "      <td>39.000000</td>\n",
       "      <td>1.000000</td>\n",
       "      <td>0.700000</td>\n",
       "      <td>1.000000</td>\n",
       "      <td>0.000000</td>\n",
       "      <td>0.000000</td>\n",
       "      <td>0.000000</td>\n",
       "      <td>0.000000</td>\n",
       "    </tr>\n",
       "    <tr>\n",
       "      <th>50%</th>\n",
       "      <td>46.000000</td>\n",
       "      <td>20.000000</td>\n",
       "      <td>64.000000</td>\n",
       "      <td>2.000000</td>\n",
       "      <td>1.500000</td>\n",
       "      <td>2.000000</td>\n",
       "      <td>0.000000</td>\n",
       "      <td>0.000000</td>\n",
       "      <td>0.000000</td>\n",
       "      <td>0.000000</td>\n",
       "    </tr>\n",
       "    <tr>\n",
       "      <th>75%</th>\n",
       "      <td>55.000000</td>\n",
       "      <td>30.000000</td>\n",
       "      <td>101.000000</td>\n",
       "      <td>3.000000</td>\n",
       "      <td>2.600000</td>\n",
       "      <td>3.000000</td>\n",
       "      <td>106.000000</td>\n",
       "      <td>0.000000</td>\n",
       "      <td>0.000000</td>\n",
       "      <td>1.000000</td>\n",
       "    </tr>\n",
       "    <tr>\n",
       "      <th>max</th>\n",
       "      <td>67.000000</td>\n",
       "      <td>43.000000</td>\n",
       "      <td>205.000000</td>\n",
       "      <td>4.000000</td>\n",
       "      <td>10.000000</td>\n",
       "      <td>3.000000</td>\n",
       "      <td>635.000000</td>\n",
       "      <td>1.000000</td>\n",
       "      <td>1.000000</td>\n",
       "      <td>1.000000</td>\n",
       "    </tr>\n",
       "  </tbody>\n",
       "</table>\n",
       "</div>"
      ],
      "text/plain": [
       "               Age   Experience       Income       Family        CCAvg  \\\n",
       "count  2999.000000  2999.000000  2999.000000  2999.000000  2999.000000   \n",
       "mean     45.491164    20.271757    74.797933     2.395465     1.978489   \n",
       "std      11.474651    11.483165    46.879316     1.155227     1.812541   \n",
       "min      23.000000    -3.000000     8.000000     1.000000     0.000000   \n",
       "25%      35.000000    10.000000    39.000000     1.000000     0.700000   \n",
       "50%      46.000000    20.000000    64.000000     2.000000     1.500000   \n",
       "75%      55.000000    30.000000   101.000000     3.000000     2.600000   \n",
       "max      67.000000    43.000000   205.000000     4.000000    10.000000   \n",
       "\n",
       "         Education     Mortgage  Personal Loan  Securities Account  \\\n",
       "count  2999.000000  2999.000000    2999.000000         2999.000000   \n",
       "mean      1.861954    59.360453       0.103034            0.106035   \n",
       "std       0.835912   103.554350       0.304054            0.307934   \n",
       "min       1.000000     0.000000       0.000000            0.000000   \n",
       "25%       1.000000     0.000000       0.000000            0.000000   \n",
       "50%       2.000000     0.000000       0.000000            0.000000   \n",
       "75%       3.000000   106.000000       0.000000            0.000000   \n",
       "max       3.000000   635.000000       1.000000            1.000000   \n",
       "\n",
       "        CreditCard  \n",
       "count  2999.000000  \n",
       "mean      0.286095  \n",
       "std       0.452010  \n",
       "min       0.000000  \n",
       "25%       0.000000  \n",
       "50%       0.000000  \n",
       "75%       1.000000  \n",
       "max       1.000000  "
      ]
     },
     "execution_count": 75,
     "metadata": {},
     "output_type": "execute_result"
    }
   ],
   "source": [
    "bank.describe()"
   ]
  },
  {
   "cell_type": "code",
   "execution_count": 76,
   "id": "6acdfb39",
   "metadata": {},
   "outputs": [
    {
     "name": "stdout",
     "output_type": "stream",
     "text": [
      "Mean Age of our customer base is: 45.49116372124041\n"
     ]
    }
   ],
   "source": [
    "print(\"Mean Age of our customer base is:\",bank['Age'].mean())"
   ]
  },
  {
   "cell_type": "code",
   "execution_count": 77,
   "id": "dd74531c",
   "metadata": {},
   "outputs": [
    {
     "data": {
      "text/plain": [
       "Age                   0\n",
       "Experience            0\n",
       "Income                0\n",
       "Family                0\n",
       "CCAvg                 0\n",
       "Education             0\n",
       "Mortgage              0\n",
       "Personal Loan         0\n",
       "Securities Account    0\n",
       "CreditCard            0\n",
       "dtype: int64"
      ]
     },
     "execution_count": 77,
     "metadata": {},
     "output_type": "execute_result"
    }
   ],
   "source": [
    "bank.isnull().sum()"
   ]
  },
  {
   "cell_type": "code",
   "execution_count": 78,
   "id": "6e0b42b7",
   "metadata": {},
   "outputs": [
    {
     "data": {
      "text/plain": [
       "0"
      ]
     },
     "execution_count": 78,
     "metadata": {},
     "output_type": "execute_result"
    }
   ],
   "source": [
    "bank.isnull().sum().sum()"
   ]
  },
  {
   "cell_type": "markdown",
   "id": "a2e65c7e",
   "metadata": {},
   "source": [
    "There are no missing values in the data."
   ]
  },
  {
   "cell_type": "code",
   "execution_count": 79,
   "id": "6e3a0f64",
   "metadata": {},
   "outputs": [
    {
     "data": {
      "text/plain": [
       "<AxesSubplot:xlabel='Personal Loan', ylabel='Density'>"
      ]
     },
     "execution_count": 79,
     "metadata": {},
     "output_type": "execute_result"
    },
    {
     "data": {
      "image/png": "[encoded data removed]",
      "text/plain": [
       "<Figure size 432x288 with 1 Axes>"
      ]
     },
     "metadata": {
      "needs_background": "light"
     },
     "output_type": "display_data"
    }
   ],
   "source": [
    "sns.distplot(bank['Personal Loan'])"
   ]
  },
  {
   "cell_type": "code",
   "execution_count": 80,
   "id": "d73c7414",
   "metadata": {},
   "outputs": [
    {
     "data": {
      "text/plain": [
       "<AxesSubplot:xlabel='Personal Loan', ylabel='Count'>"
      ]
     },
     "execution_count": 80,
     "metadata": {},
     "output_type": "execute_result"
    },
    {
     "data": {
      "image/png": "[encoded data removed]",
      "text/plain": [
       "<Figure size 432x288 with 1 Axes>"
      ]
     },
     "metadata": {
      "needs_background": "light"
     },
     "output_type": "display_data"
    }
   ],
   "source": [
    "sns.histplot(bank['Personal Loan'])"
   ]
  },
  {
   "cell_type": "markdown",
   "id": "17296bd4",
   "metadata": {},
   "source": [
    "As the data is unevenly distributed we can say that the classes are imbalanced."
   ]
  },
  {
   "cell_type": "code",
   "execution_count": 81,
   "id": "bf5a252a",
   "metadata": {},
   "outputs": [
    {
     "name": "stdout",
     "output_type": "stream",
     "text": [
      "Minimum income of our customer base is: 8\n",
      "Maximum income of our customer base is: 205\n"
     ]
    }
   ],
   "source": [
    "print(\"Minimum income of our customer base is:\",bank['Income'].min())\n",
    "print(\"Maximum income of our customer base is:\",bank['Income'].max())"
   ]
  },
  {
   "cell_type": "code",
   "execution_count": 82,
   "id": "209a8a2b",
   "metadata": {},
   "outputs": [
    {
     "data": {
      "text/plain": [
       "<AxesSubplot:>"
      ]
     },
     "execution_count": 82,
     "metadata": {},
     "output_type": "execute_result"
    },
    {
     "data": {
      "image/png": "[encoded data removed]",
      "text/plain": [
       "<Figure size 432x288 with 1 Axes>"
      ]
     },
     "metadata": {
      "needs_background": "light"
     },
     "output_type": "display_data"
    }
   ],
   "source": [
    "sns.boxplot(data=bank[['Age','Experience']])"
   ]
  },
  {
   "cell_type": "markdown",
   "id": "f9388bef",
   "metadata": {},
   "source": [
    "# Bivariate Analysis"
   ]
  },
  {
   "cell_type": "code",
   "execution_count": 83,
   "id": "486a65ac",
   "metadata": {},
   "outputs": [
    {
     "data": {
      "image/png": "[encoded data removed]",
      "text/plain": [
       "<Figure size 864x432 with 1 Axes>"
      ]
     },
     "metadata": {},
     "output_type": "display_data"
    }
   ],
   "source": [
    "sns.set_style('whitegrid')\n",
    "plt.rcParams['figure.figsize']=(12,6)\n",
    "plt.rcParams[\"figure.autolayout\"] = True\n",
    "ax=sns.countplot(x='CreditCard',hue=\"Personal Loan\",data=bank)\n",
    "for p in ax.patches:\n",
    "        ax.annotate('{:.1f}'.format(p.get_height()), (p.get_x()+0.1, p.get_height()+50))"
   ]
  },
  {
   "cell_type": "markdown",
   "id": "15f4db2b",
   "metadata": {},
   "source": [
    "Total no.of Credit Card Holders - 858"
   ]
  },
  {
   "cell_type": "markdown",
   "id": "e6ab4c01",
   "metadata": {},
   "source": [
    "The customers having credit cards and availed personal loan - 89"
   ]
  },
  {
   "cell_type": "markdown",
   "id": "2cbdaaec",
   "metadata": {},
   "source": [
    "So, approximately around 10.373% of the customers who use our credit card have a personal loan with us"
   ]
  },
  {
   "cell_type": "code",
   "execution_count": 84,
   "id": "428dcc9f",
   "metadata": {},
   "outputs": [
    {
     "data": {
      "image/png": "[encoded data removed]",
      "text/plain": [
       "<Figure size 864x432 with 1 Axes>"
      ]
     },
     "metadata": {},
     "output_type": "display_data"
    }
   ],
   "source": [
    "sns.set_style('whitegrid')\n",
    "plt.rcParams['figure.figsize']=(12,6)\n",
    "plt.rcParams[\"figure.autolayout\"] = True\n",
    "bx=sns.countplot(x='Personal Loan',hue='Education',data=bank,palette='rainbow')\n",
    "for p in bx.patches:\n",
    "        bx.annotate('{:.1f}'.format(p.get_height()), (p.get_x()+0.1, p.get_height()+50))"
   ]
  },
  {
   "cell_type": "markdown",
   "id": "1d31c701",
   "metadata": {},
   "source": [
    "It’s identified that only 309 customers have availed Personal Loan out of 2999. When compared with Undergrad Vs Graduate Vs \n",
    "Advanced/Professional availing personal loan it’s Advanced / Professional # 3 customers are more prone to taking our personal loans.\n"
   ]
  },
  {
   "cell_type": "code",
   "execution_count": 85,
   "id": "921389c0",
   "metadata": {},
   "outputs": [
    {
     "data": {
      "text/plain": [
       "<AxesSubplot:xlabel='CCAvg', ylabel='Density'>"
      ]
     },
     "execution_count": 85,
     "metadata": {},
     "output_type": "execute_result"
    },
    {
     "data": {
      "image/png": "[encoded data removed]",
      "text/plain": [
       "<Figure size 864x432 with 1 Axes>"
      ]
     },
     "metadata": {},
     "output_type": "display_data"
    }
   ],
   "source": [
    "sns.distplot(bank[bank[\"Personal Loan\"] == 0]['CCAvg'], color = 'r')\n",
    "sns.distplot(bank[bank[\"Personal Loan\"] == 1]['CCAvg'], color = 'g')"
   ]
  },
  {
   "cell_type": "markdown",
   "id": "3159ae7f",
   "metadata": {},
   "source": [
    "If we observe the plot irrespective of the more experience the customers have spent less and in some cases with less experience the customers have spent more."
   ]
  },
  {
   "cell_type": "code",
   "execution_count": 86,
   "id": "849f057f",
   "metadata": {},
   "outputs": [
    {
     "data": {
      "image/png": "[encoded data removed]",
      "text/plain": [
       "<Figure size 864x432 with 1 Axes>"
      ]
     },
     "metadata": {},
     "output_type": "display_data"
    }
   ],
   "source": [
    "sns.set_style('whitegrid')\n",
    "plt.rcParams['figure.figsize']=(12,6)\n",
    "plt.rcParams[\"figure.autolayout\"] = True\n",
    "Loan=sns.countplot(x='Personal Loan',data=bank)\n",
    "for p in Loan.patches:\n",
    "        Loan.annotate('{:.1f}'.format(p.get_height()), (p.get_x()+0.1, p.get_height()+50))"
   ]
  },
  {
   "cell_type": "markdown",
   "id": "7d08bb7e",
   "metadata": {},
   "source": [
    "Overall there are 309 customers who have taken personal loans "
   ]
  },
  {
   "cell_type": "code",
   "execution_count": 87,
   "id": "f4bd5202",
   "metadata": {},
   "outputs": [],
   "source": [
    "Loan_and_high_Income=bank[(bank['Personal Loan']==1)&(bank['Income']>=100)]"
   ]
  },
  {
   "cell_type": "code",
   "execution_count": 88,
   "id": "fd2893c1",
   "metadata": {},
   "outputs": [
    {
     "data": {
      "text/plain": [
       "(284, 10)"
      ]
     },
     "execution_count": 88,
     "metadata": {},
     "output_type": "execute_result"
    }
   ],
   "source": [
    "Loan_and_high_Income.shape"
   ]
  },
  {
   "cell_type": "code",
   "execution_count": 89,
   "id": "3c3ac4c0",
   "metadata": {},
   "outputs": [],
   "source": [
    "Loan_and_low_Income=bank[(bank['Personal Loan']==1)&(bank['Income']<100)]"
   ]
  },
  {
   "cell_type": "code",
   "execution_count": 90,
   "id": "7efcf937",
   "metadata": {},
   "outputs": [
    {
     "data": {
      "text/plain": [
       "(25, 10)"
      ]
     },
     "execution_count": 90,
     "metadata": {},
     "output_type": "execute_result"
    }
   ],
   "source": [
    "Loan_and_low_Income.shape"
   ]
  },
  {
   "cell_type": "markdown",
   "id": "6f839da8",
   "metadata": {},
   "source": [
    "There are 309 customers who have taken personal loans with the bank. The customers who took personal loan and having Income greater than or equal to 100K are \"284\" and the customers who took personal loan and having Income less than 100k are \"25\". So, we can say that a customer with Income greater than 100k is more likely to subscribe to a loan and the sales team should focus more on customers with Income greater than 100k."
   ]
  },
  {
   "cell_type": "markdown",
   "id": "4c1f0c0f",
   "metadata": {},
   "source": [
    "# Data Transformation"
   ]
  },
  {
   "cell_type": "code",
   "execution_count": 91,
   "id": "6eb23f2a",
   "metadata": {},
   "outputs": [
    {
     "data": {
      "text/plain": [
       "30"
      ]
     },
     "execution_count": 91,
     "metadata": {},
     "output_type": "execute_result"
    }
   ],
   "source": [
    "exp_neg=(bank['Experience']<0).sum().sum()\n",
    "exp_neg"
   ]
  },
  {
   "cell_type": "markdown",
   "id": "0be2bbd2",
   "metadata": {},
   "source": [
    "The Negative Values of Experience in the data are 30, so the percentage of negative values in the experience is nearly around 0.010%"
   ]
  },
  {
   "cell_type": "markdown",
   "id": "f915e56d",
   "metadata": {},
   "source": [
    "# Replacing the negative values of Experience in the Data"
   ]
  },
  {
   "cell_type": "code",
   "execution_count": 92,
   "id": "46d07f85",
   "metadata": {},
   "outputs": [],
   "source": [
    "bank[bank['Experience']<0]=0 #Replacing all the negative values with 0"
   ]
  },
  {
   "cell_type": "code",
   "execution_count": 93,
   "id": "511d547c",
   "metadata": {},
   "outputs": [
    {
     "data": {
      "text/html": [
       "<div>\n",
       "<style scoped>\n",
       "    .dataframe tbody tr th:only-of-type {\n",
       "        vertical-align: middle;\n",
       "    }\n",
       "\n",
       "    .dataframe tbody tr th {\n",
       "        vertical-align: top;\n",
       "    }\n",
       "\n",
       "    .dataframe thead th {\n",
       "        text-align: right;\n",
       "    }\n",
       "</style>\n",
       "<table border=\"1\" class=\"dataframe\">\n",
       "  <thead>\n",
       "    <tr style=\"text-align: right;\">\n",
       "      <th></th>\n",
       "      <th>Age</th>\n",
       "      <th>Experience</th>\n",
       "      <th>Income</th>\n",
       "      <th>Family</th>\n",
       "      <th>CCAvg</th>\n",
       "      <th>Education</th>\n",
       "      <th>Mortgage</th>\n",
       "      <th>Personal Loan</th>\n",
       "      <th>Securities Account</th>\n",
       "      <th>CreditCard</th>\n",
       "    </tr>\n",
       "  </thead>\n",
       "  <tbody>\n",
       "    <tr>\n",
       "      <th>0</th>\n",
       "      <td>25</td>\n",
       "      <td>1</td>\n",
       "      <td>49</td>\n",
       "      <td>4</td>\n",
       "      <td>1.60</td>\n",
       "      <td>1</td>\n",
       "      <td>0</td>\n",
       "      <td>0</td>\n",
       "      <td>1</td>\n",
       "      <td>0</td>\n",
       "    </tr>\n",
       "    <tr>\n",
       "      <th>1</th>\n",
       "      <td>45</td>\n",
       "      <td>19</td>\n",
       "      <td>34</td>\n",
       "      <td>3</td>\n",
       "      <td>1.50</td>\n",
       "      <td>1</td>\n",
       "      <td>0</td>\n",
       "      <td>0</td>\n",
       "      <td>1</td>\n",
       "      <td>0</td>\n",
       "    </tr>\n",
       "    <tr>\n",
       "      <th>2</th>\n",
       "      <td>39</td>\n",
       "      <td>15</td>\n",
       "      <td>11</td>\n",
       "      <td>1</td>\n",
       "      <td>1.00</td>\n",
       "      <td>1</td>\n",
       "      <td>0</td>\n",
       "      <td>0</td>\n",
       "      <td>0</td>\n",
       "      <td>0</td>\n",
       "    </tr>\n",
       "    <tr>\n",
       "      <th>3</th>\n",
       "      <td>35</td>\n",
       "      <td>9</td>\n",
       "      <td>100</td>\n",
       "      <td>1</td>\n",
       "      <td>2.70</td>\n",
       "      <td>2</td>\n",
       "      <td>0</td>\n",
       "      <td>0</td>\n",
       "      <td>0</td>\n",
       "      <td>0</td>\n",
       "    </tr>\n",
       "    <tr>\n",
       "      <th>4</th>\n",
       "      <td>35</td>\n",
       "      <td>8</td>\n",
       "      <td>45</td>\n",
       "      <td>4</td>\n",
       "      <td>1.00</td>\n",
       "      <td>2</td>\n",
       "      <td>0</td>\n",
       "      <td>0</td>\n",
       "      <td>0</td>\n",
       "      <td>1</td>\n",
       "    </tr>\n",
       "    <tr>\n",
       "      <th>...</th>\n",
       "      <td>...</td>\n",
       "      <td>...</td>\n",
       "      <td>...</td>\n",
       "      <td>...</td>\n",
       "      <td>...</td>\n",
       "      <td>...</td>\n",
       "      <td>...</td>\n",
       "      <td>...</td>\n",
       "      <td>...</td>\n",
       "      <td>...</td>\n",
       "    </tr>\n",
       "    <tr>\n",
       "      <th>2994</th>\n",
       "      <td>50</td>\n",
       "      <td>24</td>\n",
       "      <td>179</td>\n",
       "      <td>1</td>\n",
       "      <td>1.00</td>\n",
       "      <td>1</td>\n",
       "      <td>0</td>\n",
       "      <td>0</td>\n",
       "      <td>0</td>\n",
       "      <td>0</td>\n",
       "    </tr>\n",
       "    <tr>\n",
       "      <th>2995</th>\n",
       "      <td>54</td>\n",
       "      <td>24</td>\n",
       "      <td>91</td>\n",
       "      <td>2</td>\n",
       "      <td>4.50</td>\n",
       "      <td>3</td>\n",
       "      <td>90</td>\n",
       "      <td>0</td>\n",
       "      <td>0</td>\n",
       "      <td>0</td>\n",
       "    </tr>\n",
       "    <tr>\n",
       "      <th>2996</th>\n",
       "      <td>42</td>\n",
       "      <td>18</td>\n",
       "      <td>103</td>\n",
       "      <td>1</td>\n",
       "      <td>3.33</td>\n",
       "      <td>1</td>\n",
       "      <td>0</td>\n",
       "      <td>1</td>\n",
       "      <td>1</td>\n",
       "      <td>1</td>\n",
       "    </tr>\n",
       "    <tr>\n",
       "      <th>2997</th>\n",
       "      <td>57</td>\n",
       "      <td>33</td>\n",
       "      <td>80</td>\n",
       "      <td>4</td>\n",
       "      <td>1.60</td>\n",
       "      <td>2</td>\n",
       "      <td>0</td>\n",
       "      <td>0</td>\n",
       "      <td>0</td>\n",
       "      <td>0</td>\n",
       "    </tr>\n",
       "    <tr>\n",
       "      <th>2998</th>\n",
       "      <td>61</td>\n",
       "      <td>35</td>\n",
       "      <td>38</td>\n",
       "      <td>2</td>\n",
       "      <td>0.30</td>\n",
       "      <td>1</td>\n",
       "      <td>0</td>\n",
       "      <td>0</td>\n",
       "      <td>0</td>\n",
       "      <td>0</td>\n",
       "    </tr>\n",
       "  </tbody>\n",
       "</table>\n",
       "<p>2999 rows × 10 columns</p>\n",
       "</div>"
      ],
      "text/plain": [
       "      Age  Experience  Income  Family  CCAvg  Education  Mortgage  \\\n",
       "0      25           1      49       4   1.60          1         0   \n",
       "1      45          19      34       3   1.50          1         0   \n",
       "2      39          15      11       1   1.00          1         0   \n",
       "3      35           9     100       1   2.70          2         0   \n",
       "4      35           8      45       4   1.00          2         0   \n",
       "...   ...         ...     ...     ...    ...        ...       ...   \n",
       "2994   50          24     179       1   1.00          1         0   \n",
       "2995   54          24      91       2   4.50          3        90   \n",
       "2996   42          18     103       1   3.33          1         0   \n",
       "2997   57          33      80       4   1.60          2         0   \n",
       "2998   61          35      38       2   0.30          1         0   \n",
       "\n",
       "      Personal Loan  Securities Account  CreditCard  \n",
       "0                 0                   1           0  \n",
       "1                 0                   1           0  \n",
       "2                 0                   0           0  \n",
       "3                 0                   0           0  \n",
       "4                 0                   0           1  \n",
       "...             ...                 ...         ...  \n",
       "2994              0                   0           0  \n",
       "2995              0                   0           0  \n",
       "2996              1                   1           1  \n",
       "2997              0                   0           0  \n",
       "2998              0                   0           0  \n",
       "\n",
       "[2999 rows x 10 columns]"
      ]
     },
     "execution_count": 93,
     "metadata": {},
     "output_type": "execute_result"
    }
   ],
   "source": [
    "bank"
   ]
  },
  {
   "cell_type": "code",
   "execution_count": 94,
   "id": "db3f8155",
   "metadata": {},
   "outputs": [
    {
     "data": {
      "text/plain": [
       "0"
      ]
     },
     "execution_count": 94,
     "metadata": {},
     "output_type": "execute_result"
    }
   ],
   "source": [
    "(bank['Experience']<0).sum().sum()"
   ]
  },
  {
   "cell_type": "markdown",
   "id": "e6884149",
   "metadata": {},
   "source": [
    "Now, we see that there are no negative values of Experience in the data"
   ]
  },
  {
   "cell_type": "markdown",
   "id": "116dc79a",
   "metadata": {},
   "source": [
    "# Correlation between the values"
   ]
  },
  {
   "cell_type": "code",
   "execution_count": 95,
   "id": "f4b767a3",
   "metadata": {},
   "outputs": [],
   "source": [
    "corr_mat=bank.corr(method='pearson')"
   ]
  },
  {
   "cell_type": "code",
   "execution_count": 96,
   "id": "19368ad3",
   "metadata": {},
   "outputs": [
    {
     "data": {
      "text/html": [
       "<div>\n",
       "<style scoped>\n",
       "    .dataframe tbody tr th:only-of-type {\n",
       "        vertical-align: middle;\n",
       "    }\n",
       "\n",
       "    .dataframe tbody tr th {\n",
       "        vertical-align: top;\n",
       "    }\n",
       "\n",
       "    .dataframe thead th {\n",
       "        text-align: right;\n",
       "    }\n",
       "</style>\n",
       "<table border=\"1\" class=\"dataframe\">\n",
       "  <thead>\n",
       "    <tr style=\"text-align: right;\">\n",
       "      <th></th>\n",
       "      <th>Age</th>\n",
       "      <th>Experience</th>\n",
       "      <th>Income</th>\n",
       "      <th>Family</th>\n",
       "      <th>CCAvg</th>\n",
       "      <th>Education</th>\n",
       "      <th>Mortgage</th>\n",
       "      <th>Personal Loan</th>\n",
       "      <th>Securities Account</th>\n",
       "      <th>CreditCard</th>\n",
       "    </tr>\n",
       "  </thead>\n",
       "  <tbody>\n",
       "    <tr>\n",
       "      <th>Age</th>\n",
       "      <td>1.000000</td>\n",
       "      <td>0.973920</td>\n",
       "      <td>-0.002939</td>\n",
       "      <td>0.039832</td>\n",
       "      <td>-0.011683</td>\n",
       "      <td>0.119808</td>\n",
       "      <td>0.005310</td>\n",
       "      <td>0.004633</td>\n",
       "      <td>0.027779</td>\n",
       "      <td>0.044015</td>\n",
       "    </tr>\n",
       "    <tr>\n",
       "      <th>Experience</th>\n",
       "      <td>0.973920</td>\n",
       "      <td>1.000000</td>\n",
       "      <td>-0.029140</td>\n",
       "      <td>-0.007836</td>\n",
       "      <td>-0.034954</td>\n",
       "      <td>0.053023</td>\n",
       "      <td>-0.003304</td>\n",
       "      <td>-0.002508</td>\n",
       "      <td>0.021444</td>\n",
       "      <td>0.033868</td>\n",
       "    </tr>\n",
       "    <tr>\n",
       "      <th>Income</th>\n",
       "      <td>-0.002939</td>\n",
       "      <td>-0.029140</td>\n",
       "      <td>1.000000</td>\n",
       "      <td>-0.122521</td>\n",
       "      <td>0.656772</td>\n",
       "      <td>-0.143953</td>\n",
       "      <td>0.211500</td>\n",
       "      <td>0.517043</td>\n",
       "      <td>0.003001</td>\n",
       "      <td>0.005799</td>\n",
       "    </tr>\n",
       "    <tr>\n",
       "      <th>Family</th>\n",
       "      <td>0.039832</td>\n",
       "      <td>-0.007836</td>\n",
       "      <td>-0.122521</td>\n",
       "      <td>1.000000</td>\n",
       "      <td>-0.086815</td>\n",
       "      <td>0.099980</td>\n",
       "      <td>-0.000428</td>\n",
       "      <td>0.069614</td>\n",
       "      <td>0.028270</td>\n",
       "      <td>0.030828</td>\n",
       "    </tr>\n",
       "    <tr>\n",
       "      <th>CCAvg</th>\n",
       "      <td>-0.011683</td>\n",
       "      <td>-0.034954</td>\n",
       "      <td>0.656772</td>\n",
       "      <td>-0.086815</td>\n",
       "      <td>1.000000</td>\n",
       "      <td>-0.103233</td>\n",
       "      <td>0.119210</td>\n",
       "      <td>0.378847</td>\n",
       "      <td>0.005922</td>\n",
       "      <td>-0.003655</td>\n",
       "    </tr>\n",
       "    <tr>\n",
       "      <th>Education</th>\n",
       "      <td>0.119808</td>\n",
       "      <td>0.053023</td>\n",
       "      <td>-0.143953</td>\n",
       "      <td>0.099980</td>\n",
       "      <td>-0.103233</td>\n",
       "      <td>1.000000</td>\n",
       "      <td>-0.028915</td>\n",
       "      <td>0.143084</td>\n",
       "      <td>0.008172</td>\n",
       "      <td>0.006248</td>\n",
       "    </tr>\n",
       "    <tr>\n",
       "      <th>Mortgage</th>\n",
       "      <td>0.005310</td>\n",
       "      <td>-0.003304</td>\n",
       "      <td>0.211500</td>\n",
       "      <td>-0.000428</td>\n",
       "      <td>0.119210</td>\n",
       "      <td>-0.028915</td>\n",
       "      <td>1.000000</td>\n",
       "      <td>0.139430</td>\n",
       "      <td>0.003449</td>\n",
       "      <td>-0.012513</td>\n",
       "    </tr>\n",
       "    <tr>\n",
       "      <th>Personal Loan</th>\n",
       "      <td>0.004633</td>\n",
       "      <td>-0.002508</td>\n",
       "      <td>0.517043</td>\n",
       "      <td>0.069614</td>\n",
       "      <td>0.378847</td>\n",
       "      <td>0.143084</td>\n",
       "      <td>0.139430</td>\n",
       "      <td>1.000000</td>\n",
       "      <td>0.033314</td>\n",
       "      <td>0.003458</td>\n",
       "    </tr>\n",
       "    <tr>\n",
       "      <th>Securities Account</th>\n",
       "      <td>0.027779</td>\n",
       "      <td>0.021444</td>\n",
       "      <td>0.003001</td>\n",
       "      <td>0.028270</td>\n",
       "      <td>0.005922</td>\n",
       "      <td>0.008172</td>\n",
       "      <td>0.003449</td>\n",
       "      <td>0.033314</td>\n",
       "      <td>1.000000</td>\n",
       "      <td>-0.023696</td>\n",
       "    </tr>\n",
       "    <tr>\n",
       "      <th>CreditCard</th>\n",
       "      <td>0.044015</td>\n",
       "      <td>0.033868</td>\n",
       "      <td>0.005799</td>\n",
       "      <td>0.030828</td>\n",
       "      <td>-0.003655</td>\n",
       "      <td>0.006248</td>\n",
       "      <td>-0.012513</td>\n",
       "      <td>0.003458</td>\n",
       "      <td>-0.023696</td>\n",
       "      <td>1.000000</td>\n",
       "    </tr>\n",
       "  </tbody>\n",
       "</table>\n",
       "</div>"
      ],
      "text/plain": [
       "                         Age  Experience    Income    Family     CCAvg  \\\n",
       "Age                 1.000000    0.973920 -0.002939  0.039832 -0.011683   \n",
       "Experience          0.973920    1.000000 -0.029140 -0.007836 -0.034954   \n",
       "Income             -0.002939   -0.029140  1.000000 -0.122521  0.656772   \n",
       "Family              0.039832   -0.007836 -0.122521  1.000000 -0.086815   \n",
       "CCAvg              -0.011683   -0.034954  0.656772 -0.086815  1.000000   \n",
       "Education           0.119808    0.053023 -0.143953  0.099980 -0.103233   \n",
       "Mortgage            0.005310   -0.003304  0.211500 -0.000428  0.119210   \n",
       "Personal Loan       0.004633   -0.002508  0.517043  0.069614  0.378847   \n",
       "Securities Account  0.027779    0.021444  0.003001  0.028270  0.005922   \n",
       "CreditCard          0.044015    0.033868  0.005799  0.030828 -0.003655   \n",
       "\n",
       "                    Education  Mortgage  Personal Loan  Securities Account  \\\n",
       "Age                  0.119808  0.005310       0.004633            0.027779   \n",
       "Experience           0.053023 -0.003304      -0.002508            0.021444   \n",
       "Income              -0.143953  0.211500       0.517043            0.003001   \n",
       "Family               0.099980 -0.000428       0.069614            0.028270   \n",
       "CCAvg               -0.103233  0.119210       0.378847            0.005922   \n",
       "Education            1.000000 -0.028915       0.143084            0.008172   \n",
       "Mortgage            -0.028915  1.000000       0.139430            0.003449   \n",
       "Personal Loan        0.143084  0.139430       1.000000            0.033314   \n",
       "Securities Account   0.008172  0.003449       0.033314            1.000000   \n",
       "CreditCard           0.006248 -0.012513       0.003458           -0.023696   \n",
       "\n",
       "                    CreditCard  \n",
       "Age                   0.044015  \n",
       "Experience            0.033868  \n",
       "Income                0.005799  \n",
       "Family                0.030828  \n",
       "CCAvg                -0.003655  \n",
       "Education             0.006248  \n",
       "Mortgage             -0.012513  \n",
       "Personal Loan         0.003458  \n",
       "Securities Account   -0.023696  \n",
       "CreditCard            1.000000  "
      ]
     },
     "execution_count": 96,
     "metadata": {},
     "output_type": "execute_result"
    }
   ],
   "source": [
    "corr_mat"
   ]
  },
  {
   "cell_type": "code",
   "execution_count": 97,
   "id": "5db19d3c",
   "metadata": {},
   "outputs": [
    {
     "data": {
      "text/plain": [
       "<AxesSubplot:>"
      ]
     },
     "execution_count": 97,
     "metadata": {},
     "output_type": "execute_result"
    },
    {
     "data": {
      "image/png": "[encoded data removed]",
      "text/plain": [
       "<Figure size 864x432 with 2 Axes>"
      ]
     },
     "metadata": {},
     "output_type": "display_data"
    }
   ],
   "source": [
    "sns.heatmap(corr_mat,annot=True,linewidths=.5,cmap=\"YlGnBu\")"
   ]
  },
  {
   "cell_type": "markdown",
   "id": "84d822a7",
   "metadata": {},
   "source": [
    "Age and Experience, Income and CCAvg, Income and Mortegage, Income and Personal Loan , CCAvg and Personal Loan features has maximum correlation."
   ]
  },
  {
   "cell_type": "code",
   "execution_count": 98,
   "id": "504d0c36",
   "metadata": {},
   "outputs": [
    {
     "name": "stdout",
     "output_type": "stream",
     "text": [
      "The correlation between CCAvg and Income is 0.6567721195658444\n"
     ]
    }
   ],
   "source": [
    "CCAvg_Income_Corr=(bank['CCAvg'].corr(bank['Income']))\n",
    "print(\"The correlation between CCAvg and Income is\",CCAvg_Income_Corr)"
   ]
  },
  {
   "cell_type": "markdown",
   "id": "43dfd419",
   "metadata": {},
   "source": [
    "# Other EDA"
   ]
  },
  {
   "cell_type": "code",
   "execution_count": 99,
   "id": "a18f3279",
   "metadata": {},
   "outputs": [
    {
     "data": {
      "text/plain": [
       "<AxesSubplot:xlabel='Education', ylabel='Income'>"
      ]
     },
     "execution_count": 99,
     "metadata": {},
     "output_type": "execute_result"
    },
    {
     "data": {
      "image/png": "[encoded data removed]",
      "text/plain": [
       "<Figure size 864x432 with 1 Axes>"
      ]
     },
     "metadata": {},
     "output_type": "display_data"
    }
   ],
   "source": [
    "sns.boxplot(x='Education',y='Income',hue='Personal Loan',data=bank)"
   ]
  },
  {
   "cell_type": "markdown",
   "id": "c4e8fb4a",
   "metadata": {},
   "source": [
    "The difference in the income levels between the people who have taken the loan and not taken the loan is increasing as the education level is increasing."
   ]
  },
  {
   "cell_type": "code",
   "execution_count": 100,
   "id": "6dcb211b",
   "metadata": {},
   "outputs": [
    {
     "data": {
      "text/plain": [
       "<AxesSubplot:xlabel='Education', ylabel='Mortgage'>"
      ]
     },
     "execution_count": 100,
     "metadata": {},
     "output_type": "execute_result"
    },
    {
     "data": {
      "image/png": "[encoded data removed]",
      "text/plain": [
       "<Figure size 864x432 with 1 Axes>"
      ]
     },
     "metadata": {},
     "output_type": "display_data"
    }
   ],
   "source": [
    "sns.boxplot(x='Education',y='Mortgage',hue='Personal Loan',data=bank)"
   ]
  },
  {
   "cell_type": "markdown",
   "id": "f49d3613",
   "metadata": {},
   "source": [
    "The Mortgage for the people who have not taken any loan and irrespective of their education levels is almost same. The people in the undergraduate i.e level 1 who have taken personal loan have higher mortgage when compared to the people in other education levels who have taken the loan."
   ]
  },
  {
   "cell_type": "markdown",
   "id": "1c0ed7c1",
   "metadata": {},
   "source": [
    "Majority of customers who does not have loan have securities account"
   ]
  },
  {
   "cell_type": "code",
   "execution_count": 101,
   "id": "1fb54a02",
   "metadata": {},
   "outputs": [
    {
     "data": {
      "text/plain": [
       "<AxesSubplot:xlabel='Family', ylabel='count'>"
      ]
     },
     "execution_count": 101,
     "metadata": {},
     "output_type": "execute_result"
    },
    {
     "data": {
      "image/png": "[encoded data removed]",
      "text/plain": [
       "<Figure size 864x432 with 1 Axes>"
      ]
     },
     "metadata": {},
     "output_type": "display_data"
    }
   ],
   "source": [
    "sns.countplot(x='Family',hue='Personal Loan',data=bank)"
   ]
  },
  {
   "cell_type": "markdown",
   "id": "3d2ff930",
   "metadata": {},
   "source": [
    "We can see that as the family size increases there is more chance for a customer to take the loan."
   ]
  }
 ],
 "metadata": {
  "kernelspec": {
   "display_name": "Python 3 (ipykernel)",
   "language": "python",
   "name": "python3"
  },
  "language_info": {
   "codemirror_mode": {
    "name": "ipython",
    "version": 3
   },
   "file_extension": ".py",
   "mimetype": "text/x-python",
   "name": "python",
   "nbconvert_exporter": "python",
   "pygments_lexer": "ipython3",
   "version": "3.9.12"
  }
 },
 "nbformat": 4,
 "nbformat_minor": 5
}
